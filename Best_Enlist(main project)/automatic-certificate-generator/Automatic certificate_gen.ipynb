{
 "cells": [
  {
   "cell_type": "code",
   "execution_count": 1,
   "metadata": {},
   "outputs": [],
   "source": [
    "import pandas as pd\n",
    "from PIL import Image,ImageDraw,ImageFont"
   ]
  },
  {
   "cell_type": "code",
   "execution_count": 2,
   "metadata": {},
   "outputs": [],
   "source": [
    "f=pd.read_csv(\"participants1.csv\")"
   ]
  },
  {
   "cell_type": "code",
   "execution_count": 3,
   "metadata": {},
   "outputs": [
    {
     "data": {
      "text/html": [
       "<div>\n",
       "<style scoped>\n",
       "    .dataframe tbody tr th:only-of-type {\n",
       "        vertical-align: middle;\n",
       "    }\n",
       "\n",
       "    .dataframe tbody tr th {\n",
       "        vertical-align: top;\n",
       "    }\n",
       "\n",
       "    .dataframe thead th {\n",
       "        text-align: right;\n",
       "    }\n",
       "</style>\n",
       "<table border=\"1\" class=\"dataframe\">\n",
       "  <thead>\n",
       "    <tr style=\"text-align: right;\">\n",
       "      <th></th>\n",
       "      <th>Unnamed: 0</th>\n",
       "      <th>Name</th>\n",
       "      <th>Gender</th>\n",
       "      <th>Project manager</th>\n",
       "      <th>mentor</th>\n",
       "      <th>num</th>\n",
       "    </tr>\n",
       "  </thead>\n",
       "  <tbody>\n",
       "    <tr>\n",
       "      <th>0</th>\n",
       "      <td>0</td>\n",
       "      <td>Adithya</td>\n",
       "      <td>male</td>\n",
       "      <td>madhi</td>\n",
       "      <td>gokul</td>\n",
       "      <td>abc228782787</td>\n",
       "    </tr>\n",
       "    <tr>\n",
       "      <th>1</th>\n",
       "      <td>1</td>\n",
       "      <td>raechel</td>\n",
       "      <td>female</td>\n",
       "      <td>madhi</td>\n",
       "      <td>gokul</td>\n",
       "      <td>abc738738788</td>\n",
       "    </tr>\n",
       "    <tr>\n",
       "      <th>2</th>\n",
       "      <td>2</td>\n",
       "      <td>chandler</td>\n",
       "      <td>male</td>\n",
       "      <td>madhi</td>\n",
       "      <td>gokul</td>\n",
       "      <td>abc728738878</td>\n",
       "    </tr>\n",
       "    <tr>\n",
       "      <th>3</th>\n",
       "      <td>3</td>\n",
       "      <td>monika</td>\n",
       "      <td>female</td>\n",
       "      <td>madhi</td>\n",
       "      <td>gokul</td>\n",
       "      <td>abc903090837</td>\n",
       "    </tr>\n",
       "    <tr>\n",
       "      <th>4</th>\n",
       "      <td>4</td>\n",
       "      <td>joe</td>\n",
       "      <td>male</td>\n",
       "      <td>madhi</td>\n",
       "      <td>gokul</td>\n",
       "      <td>abc478579389</td>\n",
       "    </tr>\n",
       "    <tr>\n",
       "      <th>5</th>\n",
       "      <td>5</td>\n",
       "      <td>phoebe</td>\n",
       "      <td>female</td>\n",
       "      <td>madhi</td>\n",
       "      <td>gokul</td>\n",
       "      <td>abc384984984</td>\n",
       "    </tr>\n",
       "  </tbody>\n",
       "</table>\n",
       "</div>"
      ],
      "text/plain": [
       "   Unnamed: 0      Name  Gender Project manager mentor           num\n",
       "0           0   Adithya    male           madhi  gokul  abc228782787\n",
       "1           1   raechel  female           madhi  gokul  abc738738788\n",
       "2           2  chandler    male           madhi  gokul  abc728738878\n",
       "3           3    monika  female           madhi  gokul  abc903090837\n",
       "4           4       joe    male           madhi  gokul  abc478579389\n",
       "5           5    phoebe  female           madhi  gokul  abc384984984"
      ]
     },
     "execution_count": 3,
     "metadata": {},
     "output_type": "execute_result"
    }
   ],
   "source": [
    "f"
   ]
  },
  {
   "cell_type": "code",
   "execution_count": 4,
   "metadata": {},
   "outputs": [],
   "source": [
    "records = f.to_dict(orient='record')"
   ]
  },
  {
   "cell_type": "code",
   "execution_count": 5,
   "metadata": {},
   "outputs": [],
   "source": [
    "font = ImageFont.truetype(\"OpenSans-Semibold.ttf\",size=25)"
   ]
  },
  {
   "cell_type": "code",
   "execution_count": 6,
   "metadata": {},
   "outputs": [],
   "source": [
    "def generate_cert(data):\n",
    "    template = Image.open(\"template1.jpg\")\n",
    "    draw = ImageDraw.Draw(template)\n",
    "    draw.text((140, 145), str(data['Name']), font=font, fill='black')\n",
    "    draw.text((140, 170), data['Gender'], font=font, fill='black')\n",
    "    draw.text((423, 145), data['Project manager'], font=font, fill='black')\n",
    "    draw.text((423, 170), data['mentor'], font=font, fill='black')\n",
    "    draw.text((174,385),data['num'],font=font,fill='black')    \n",
    "    return template"
   ]
  },
  {
   "cell_type": "code",
   "execution_count": 7,
   "metadata": {},
   "outputs": [],
   "source": [
    "for record in records:\n",
    "    certificate = generate_cert (record)\n",
    "    certificate.save(f\"certificates/{record['Name']}.jpg\")"
   ]
  },
  {
   "cell_type": "code",
   "execution_count": null,
   "metadata": {},
   "outputs": [],
   "source": []
  },
  {
   "cell_type": "code",
   "execution_count": null,
   "metadata": {},
   "outputs": [],
   "source": []
  },
  {
   "cell_type": "code",
   "execution_count": null,
   "metadata": {},
   "outputs": [],
   "source": []
  },
  {
   "cell_type": "code",
   "execution_count": null,
   "metadata": {},
   "outputs": [],
   "source": []
  },
  {
   "cell_type": "code",
   "execution_count": null,
   "metadata": {},
   "outputs": [],
   "source": []
  }
 ],
 "metadata": {
  "kernelspec": {
   "display_name": "Python 3",
   "language": "python",
   "name": "python3"
  },
  "language_info": {
   "codemirror_mode": {
    "name": "ipython",
    "version": 3
   },
   "file_extension": ".py",
   "mimetype": "text/x-python",
   "name": "python",
   "nbconvert_exporter": "python",
   "pygments_lexer": "ipython3",
   "version": "3.8.3"
  }
 },
 "nbformat": 4,
 "nbformat_minor": 4
}
